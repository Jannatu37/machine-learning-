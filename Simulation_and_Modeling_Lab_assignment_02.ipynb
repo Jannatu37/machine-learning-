{
  "nbformat": 4,
  "nbformat_minor": 0,
  "metadata": {
    "colab": {
      "provenance": [],
      "authorship_tag": "ABX9TyPmDrdaPFcdmtl9sa6CRlLv",
      "include_colab_link": true
    },
    "kernelspec": {
      "name": "python3",
      "display_name": "Python 3"
    },
    "language_info": {
      "name": "python"
    }
  },
  "cells": [
    {
      "cell_type": "markdown",
      "metadata": {
        "id": "view-in-github",
        "colab_type": "text"
      },
      "source": [
        "<a href=\"https://colab.research.google.com/github/Jannatu37/machine-learning-/blob/main/Simulation_and_Modeling_Lab_assignment_02.ipynb\" target=\"_parent\"><img src=\"https://colab.research.google.com/assets/colab-badge.svg\" alt=\"Open In Colab\"/></a>"
      ]
    },
    {
      "cell_type": "markdown",
      "source": [
        "Name: Jannatul Ferdoss Faria\n",
        "\n",
        " ID: 2215151037\n",
        "\n",
        " University: University Of Information Technology And Science\n",
        "\n",
        " Section: 7A2\n",
        "\n",
        " Department: CSE\n",
        "\n",
        " Course Title: Simulation and Modeling Lab\n",
        "\n",
        " Course Code: CSE 413"
      ],
      "metadata": {
        "id": "iGSUCZPyB4Na"
      }
    },
    {
      "cell_type": "markdown",
      "source": [
        "\n",
        "Tasks:\n",
        "\n",
        "Use numpy to create a 3×3 matrix of random integers between 1 and 50.  \n",
        "   Run the code twice\n",
        "  With a fixed seed (`np.random.seed(10)`) to ensure reproducibility.  \n",
        "  Without setting a seed, allowing random values to change each time.  \n",
        "  Observe and explain the differences in outputs.  (in a different cell as text)\n"
      ],
      "metadata": {
        "id": "ZlZP38WbCOVi"
      }
    },
    {
      "cell_type": "code",
      "source": [
        "##Use numpy to create a 3×3 matrix of random integers between 1 and 50.\n",
        "## Run the code twice\n",
        "\n",
        "import numpy as np\n",
        "matrix = np.random.randint(1, 51,(3, 3))\n",
        "print(matrix)\n",
        "print()\n",
        "matrix = np.random.randint(1, 51,(3, 3))\n",
        "print(matrix)"
      ],
      "metadata": {
        "colab": {
          "base_uri": "https://localhost:8080/"
        },
        "id": "Es1PYrlACUNf",
        "outputId": "5fbb2401-568a-49bc-d53c-b61a2194027c"
      },
      "execution_count": 6,
      "outputs": [
        {
          "output_type": "stream",
          "name": "stdout",
          "text": [
            "[[20  5 23]\n",
            " [ 5 39 44]\n",
            " [ 5 15 31]]\n",
            "\n",
            "[[ 7 12 22]\n",
            " [17 31 28]\n",
            " [11 12 37]]\n"
          ]
        }
      ]
    },
    {
      "cell_type": "code",
      "source": [
        "#With a fixed seed (`np.random.seed(10)`) to ensure reproducibility.\n",
        "import numpy as np\n",
        "np.random.seed(10)\n",
        "matrix = np.random.randint(1, 51,(3, 3))\n",
        "print(\"Matrix with fixed seed :\")\n",
        "print(matrix)\n"
      ],
      "metadata": {
        "colab": {
          "base_uri": "https://localhost:8080/"
        },
        "id": "5gWyE_hEGOtZ",
        "outputId": "0c7215b5-e2c3-4b97-9d37-6fe900ba9695"
      },
      "execution_count": 9,
      "outputs": [
        {
          "output_type": "stream",
          "name": "stdout",
          "text": [
            "Matrix with fixed seed :\n",
            "[[10 37 16]\n",
            " [ 1 50 29]\n",
            " [26 30 49]]\n"
          ]
        }
      ]
    },
    {
      "cell_type": "code",
      "source": [
        "##  Without setting a seed, allowing random values to change each time.\n",
        "matrix_no_seed = np.random.randint(1, 51,(3, 3))\n",
        "print(\"Matrix without setting a seed:\")\n",
        "print(matrix_no_seed)\n"
      ],
      "metadata": {
        "colab": {
          "base_uri": "https://localhost:8080/"
        },
        "id": "2guVZmztGm2c",
        "outputId": "5f20288d-cea3-41a6-9f1a-2f4fe3bc935f"
      },
      "execution_count": 13,
      "outputs": [
        {
          "output_type": "stream",
          "name": "stdout",
          "text": [
            "Matrix without setting a seed:\n",
            "[[31 26 13]\n",
            " [ 2 32 37]\n",
            " [28 19 30]]\n"
          ]
        }
      ]
    }
  ]
}