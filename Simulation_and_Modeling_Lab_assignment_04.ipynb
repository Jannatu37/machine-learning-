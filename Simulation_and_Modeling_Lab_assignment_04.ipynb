{
  "nbformat": 4,
  "nbformat_minor": 0,
  "metadata": {
    "colab": {
      "provenance": [],
      "authorship_tag": "ABX9TyNeWp8GeevrBC4ERheVtS5F",
      "include_colab_link": true
    },
    "kernelspec": {
      "name": "python3",
      "display_name": "Python 3"
    },
    "language_info": {
      "name": "python"
    }
  },
  "cells": [
    {
      "cell_type": "markdown",
      "metadata": {
        "id": "view-in-github",
        "colab_type": "text"
      },
      "source": [
        "<a href=\"https://colab.research.google.com/github/Jannatu37/machine-learning-/blob/main/Simulation_and_Modeling_Lab_assignment_04.ipynb\" target=\"_parent\"><img src=\"https://colab.research.google.com/assets/colab-badge.svg\" alt=\"Open In Colab\"/></a>"
      ]
    },
    {
      "cell_type": "markdown",
      "source": [
        "Name: Jannatul Ferdoss Faria\n",
        "\n",
        "ID: 2215151037\n",
        "\n",
        "University: University Of Information Technology And Science\n",
        "\n",
        "Section: 7A2\n",
        "\n",
        "Department: CSE\n",
        "\n",
        "Course Title: Simulation and Modeling Lab\n",
        "\n",
        "Course Code: CSE 413"
      ],
      "metadata": {
        "id": "TZmQDplSWBOq"
      }
    },
    {
      "cell_type": "markdown",
      "source": [
        "Generate two sets of from a normal distribution and perform a two-sample t-test.\n",
        "\n",
        "Randomly generate 50 values from a normal distribution with a chosen mean (μ1) and standard deviation.\n",
        "Randomly generate 50 values from a normal distribution with a different mean (μ2) and standard deviation.\n"
      ],
      "metadata": {
        "id": "zWawEEfLWEiB"
      }
    },
    {
      "cell_type": "code",
      "source": [
        "import numpy as np\n",
        "from scipy import stats"
      ],
      "metadata": {
        "id": "reBN2MOwWOVZ"
      },
      "execution_count": 4,
      "outputs": []
    },
    {
      "cell_type": "code",
      "source": [
        "mu1, sigma1 = 10, 2\n",
        "mu2, sigma2 = 15, 3\n",
        "\n",
        "set1 = np.random.normal(mu1, sigma1, 50)\n",
        "set2 = np.random.normal(mu2, sigma2, 50)"
      ],
      "metadata": {
        "id": "-hF-vkUlYu8y"
      },
      "execution_count": 5,
      "outputs": []
    },
    {
      "cell_type": "code",
      "source": [
        "t_stat, p_value = stats.ttest_ind(set1, set2)\n",
        "\n",
        "print(f\"T-statistic: {t_stat}\")\n",
        "print(f\"P-value: {p_value}\")"
      ],
      "metadata": {
        "colab": {
          "base_uri": "https://localhost:8080/"
        },
        "id": "QSVIuNd3Z4QJ",
        "outputId": "ac89de97-9da9-4d39-ba26-b1b3419fc529"
      },
      "execution_count": 6,
      "outputs": [
        {
          "output_type": "stream",
          "name": "stdout",
          "text": [
            "T-statistic: -11.414354127650867\n",
            "P-value: 1.0672230675546759e-19\n"
          ]
        }
      ]
    },
    {
      "cell_type": "code",
      "source": [
        "alpha = 0.05  # Significance level\n",
        "if p_value < alpha:\n",
        "    print(\"Reject the null hypothesis. There is a significant difference between the means.\")\n",
        "else:\n",
        "    print(\"Fail to reject the null hypothesis. There is no significant difference between the means.\")"
      ],
      "metadata": {
        "colab": {
          "base_uri": "https://localhost:8080/"
        },
        "id": "dVwT7vjfaFxR",
        "outputId": "9ba7b761-e32b-4080-b3f5-14827b930e78"
      },
      "execution_count": 7,
      "outputs": [
        {
          "output_type": "stream",
          "name": "stdout",
          "text": [
            "Reject the null hypothesis. There is a significant difference between the means.\n"
          ]
        }
      ]
    },
    {
      "cell_type": "code",
      "source": [
        "import matplotlib.pyplot as plt\n",
        "\n",
        "plt.figure(figsize=(8, 6))\n",
        "plt.bar([\"Sample 1\", \"Sample 2\"], [np.mean(set1), np.mean(set2)], color=['green', 'black'], alpha=0.7)\n",
        "plt.errorbar([0, 1], [np.mean(set1), np.mean(set2)], yerr=[np.std(set1), np.std(set2)], fmt='D', color='red', capsize=5)\n",
        "plt.title('Comparison of Sample Means')\n",
        "plt.ylabel('Mean Value')\n",
        "plt.grid(True)\n",
        "plt.show()"
      ],
      "metadata": {
        "id": "a0GXrUMtfxRu",
        "outputId": "e997c43c-eaac-495b-ef25-4aa43c683861",
        "colab": {
          "base_uri": "https://localhost:8080/",
          "height": 545
        }
      },
      "execution_count": 12,
      "outputs": [
        {
          "output_type": "display_data",
          "data": {
            "text/plain": [
              "<Figure size 800x600 with 1 Axes>"
            ],
            "image/png": "[encoded data removed]"
          },
          "metadata": {}
        }
      ]
    },
    {
      "cell_type": "code",
      "source": [],
      "metadata": {
        "id": "w2ZqLWqdA6I3"
      },
      "execution_count": null,
      "outputs": []
    }
  ]
}