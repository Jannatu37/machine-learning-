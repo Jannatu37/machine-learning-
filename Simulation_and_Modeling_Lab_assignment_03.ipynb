{
  "nbformat": 4,
  "nbformat_minor": 0,
  "metadata": {
    "colab": {
      "provenance": [],
      "authorship_tag": "ABX9TyPr2KmL4gosVC+wpCn3g1lt",
      "include_colab_link": true
    },
    "kernelspec": {
      "name": "python3",
      "display_name": "Python 3"
    },
    "language_info": {
      "name": "python"
    }
  },
  "cells": [
    {
      "cell_type": "markdown",
      "metadata": {
        "id": "view-in-github",
        "colab_type": "text"
      },
      "source": [
        "<a href=\"https://colab.research.google.com/github/Jannatu37/machine-learning-/blob/main/Simulation_and_Modeling_Lab_assignment_03.ipynb\" target=\"_parent\"><img src=\"https://colab.research.google.com/assets/colab-badge.svg\" alt=\"Open In Colab\"/></a>"
      ]
    },
    {
      "cell_type": "markdown",
      "source": [
        "Name: Jannatul Ferdoss Faria\n",
        "\n",
        " ID: 2215151037\n",
        "\n",
        " University: University Of Information Technology And Science\n",
        "\n",
        " Section: 7A2\n",
        "\n",
        " Department: CSE\n",
        "\n",
        " Course Title: Simulation and Modeling Lab\n",
        "\n",
        " Course Code: CSE 413\n",
        ""
      ],
      "metadata": {
        "id": "4vL9M3nBGldn"
      }
    },
    {
      "cell_type": "markdown",
      "source": [
        "Question\n",
        "\n",
        "• Data: [5.2, 5.4, 5.1, 5.6, 5.3, 5.8]\n",
        "\n",
        "• Hypothesized mean: 5.5\n",
        "\n",
        "• Tasks:\n",
        "\n",
        "o Calculate the t-statistic and p-value.\n",
        "\n",
        "o Interpret and visualize the result at a 0.05 significance level.\n"
      ],
      "metadata": {
        "id": "I5EgLgi6Gtq6"
      }
    },
    {
      "cell_type": "code",
      "source": [
        "import numpy as np\n",
        "import scipy.stats as stats #new library\n",
        "import matplotlib.pyplot as plt"
      ],
      "metadata": {
        "id": "WkYoLjfaHTGf"
      },
      "execution_count": 1,
      "outputs": []
    }
  ]
}