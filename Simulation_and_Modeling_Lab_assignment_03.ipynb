{
  "nbformat": 4,
  "nbformat_minor": 0,
  "metadata": {
    "colab": {
      "provenance": [],
      "authorship_tag": "ABX9TyNfnxKkqRa7dlHlNtcc3T8X",
      "include_colab_link": true
    },
    "kernelspec": {
      "name": "python3",
      "display_name": "Python 3"
    },
    "language_info": {
      "name": "python"
    }
  },
  "cells": [
    {
      "cell_type": "markdown",
      "metadata": {
        "id": "view-in-github",
        "colab_type": "text"
      },
      "source": [
        "<a href=\"https://colab.research.google.com/github/Jannatu37/machine-learning-/blob/main/Simulation_and_Modeling_Lab_assignment_03.ipynb\" target=\"_parent\"><img src=\"https://colab.research.google.com/assets/colab-badge.svg\" alt=\"Open In Colab\"/></a>"
      ]
    },
    {
      "cell_type": "markdown",
      "source": [
        "Name: Jannatul Ferdoss Faria\n",
        "\n",
        " ID: 2215151037\n",
        "\n",
        " University: University Of Information Technology And Science\n",
        "\n",
        " Section: 7A2\n",
        "\n",
        " Department: CSE\n",
        "\n",
        " Course Title: Simulation and Modeling Lab\n",
        "\n",
        " Course Code: CSE 413\n",
        ""
      ],
      "metadata": {
        "id": "4vL9M3nBGldn"
      }
    },
    {
      "cell_type": "markdown",
      "source": [
        "Question\n",
        "\n",
        "• Data: [5.2, 5.4, 5.1, 5.6, 5.3, 5.8]\n",
        "\n",
        "• Hypothesized mean: 5.5\n",
        "\n",
        "• Tasks:\n",
        "\n",
        "o Calculate the t-statistic and p-value.\n",
        "\n",
        "o Interpret and visualize the result at a 0.05 significance level.\n"
      ],
      "metadata": {
        "id": "I5EgLgi6Gtq6"
      }
    },
    {
      "cell_type": "code",
      "source": [
        "import numpy as np\n",
        "import scipy.stats as stats #new library\n",
        "import matplotlib.pyplot as plt"
      ],
      "metadata": {
        "id": "WkYoLjfaHTGf"
      },
      "execution_count": 1,
      "outputs": []
    },
    {
      "cell_type": "code",
      "source": [
        "# Calculate the t-statistic and p-value\n",
        "\n",
        "data = np.array([5.2, 5.4, 5.1, 5.6, 5.3, 5.8])\n",
        "\n",
        "hypothesized_mean = 5.5\n",
        "\n",
        "t_statistic, p_value = stats.ttest_1samp(data, hypothesized_mean)\n",
        "\n",
        "print(f'Sample Mean: {np.mean(data):.2f}')\n",
        "print(f'Hypothesized Population Mean: {hypothesized_mean:.2f}')\n",
        "print(f't-Statistic: {t_statistic:.2f}')\n",
        "print(f'Degrees of Freedom: {len(data) - 1}')\n",
        "print(f'p-Value: {p_value:.4f}')\n"
      ],
      "metadata": {
        "colab": {
          "base_uri": "https://localhost:8080/"
        },
        "id": "B-eQwEblPh1Q",
        "outputId": "81c9d256-33a6-491a-d747-617ca2ae30b9"
      },
      "execution_count": 7,
      "outputs": [
        {
          "output_type": "stream",
          "name": "stdout",
          "text": [
            "Sample Mean: 5.40\n",
            "Hypothesized Population Mean: 5.50\n",
            "t-Statistic: -0.94\n",
            "Degrees of Freedom: 5\n",
            "p-Value: 0.3907\n"
          ]
        }
      ]
    },
    {
      "cell_type": "code",
      "source": [
        "# Interpret the result at a 0.05 significance level\n",
        "alpha = 0.05\n",
        "if p_value < alpha:\n",
        "    print(\"Reject the null hypothesis\")\n",
        "else:\n",
        "    print(\"Fail to reject the null hypothesis\")\n"
      ],
      "metadata": {
        "colab": {
          "base_uri": "https://localhost:8080/"
        },
        "id": "9Mq1HC-kPvZk",
        "outputId": "77bc5f43-26d1-4f0e-9208-b3f35a256bfe"
      },
      "execution_count": 8,
      "outputs": [
        {
          "output_type": "stream",
          "name": "stdout",
          "text": [
            "Fail to reject the null hypothesis\n"
          ]
        }
      ]
    },
    {
      "cell_type": "code",
      "source": [],
      "metadata": {
        "id": "5PognQ3ESN0X"
      },
      "execution_count": null,
      "outputs": []
    }
  ]
}