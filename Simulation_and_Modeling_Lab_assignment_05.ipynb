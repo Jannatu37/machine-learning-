{
  "nbformat": 4,
  "nbformat_minor": 0,
  "metadata": {
    "colab": {
      "provenance": [],
      "authorship_tag": "ABX9TyMgLQ780026Jp7IPyCexVRh",
      "include_colab_link": true
    },
    "kernelspec": {
      "name": "python3",
      "display_name": "Python 3"
    },
    "language_info": {
      "name": "python"
    }
  },
  "cells": [
    {
      "cell_type": "markdown",
      "metadata": {
        "id": "view-in-github",
        "colab_type": "text"
      },
      "source": [
        "<a href=\"https://colab.research.google.com/github/Jannatu37/machine-learning-/blob/main/Simulation_and_Modeling_Lab_assignment_05.ipynb\" target=\"_parent\"><img src=\"https://colab.research.google.com/assets/colab-badge.svg\" alt=\"Open In Colab\"/></a>"
      ]
    },
    {
      "cell_type": "markdown",
      "source": [
        "Name: Jannatul Ferdoss Faria\n",
        "\n",
        "ID: 2215151037\n",
        "\n",
        "University: University Of Information Technology And Science\n",
        "\n",
        "Section: 7A2\n",
        "\n",
        "Department: CSE\n",
        "\n",
        "Course Title: Simulation and Modeling Lab\n",
        "\n",
        "Course Code: CSE 413\n"
      ],
      "metadata": {
        "id": "vHiftYMBdVUF"
      }
    },
    {
      "cell_type": "markdown",
      "source": [
        "Apply the One-Sample Kolmogorov-Smirnov (K-S) Test on a dataset of daily temperatures to\n",
        "determine if the sample data comes from a specified normal distribution."
      ],
      "metadata": {
        "id": "T9bF45kWda3s"
      }
    },
    {
      "cell_type": "markdown",
      "source": [
        "You will be using the following dataset of daily temperatures recorded in degrees Celsius over a 10-day period.\n",
        "Instructions\n",
        "\n",
        "Day\n",
        "\n",
        "1,2,3,4,5,6,7,8,9,10\n",
        "\n",
        "\n",
        "Temperature (°C)\n",
        "\n",
        "15, 17, 16, 14, 18, 20, 19, 15, 21, 22\n"
      ],
      "metadata": {
        "id": "ajxsUuPmehl0"
      }
    },
    {
      "cell_type": "markdown",
      "source": [
        "Instructions:\n",
        "1. Load the Dataset: Use the provided dataset in your colab\n",
        "2. Extract Temperature Scores: Extract the temperatures from the dataset for analysis.\n",
        "3. Center and Scale the Data: Define the mean and standard deviation for a normal\n",
        "distribution and center and scale the temperature data accordingly.\n",
        "4. Perform the K-S Test: Use MATLAB’s kstest function to perform a one-sample K-S\n",
        "test on the scaled data.\n",
        "5. Output the Results: Display the test decision (h), p-value, KS statistic\n",
        "6. Plot the Empirical CDF: Generate a plot comparing the empirical CDF of the scaled\n",
        "temperature data with the standard normal CDF.\n",
        "7. Write a Conclusion: Based on the results, write a short conclusion about whether the\n",
        "null hypothesis (that the temperatures come from a normal distribution) can be rejected."
      ],
      "metadata": {
        "id": "Znyu79EKgnH7"
      }
    },
    {
      "cell_type": "code",
      "source": [
        "# Applying One-Sample Kolmogorov-Smirnov Test (K-S Test) for Temperature Data\n",
        "import numpy as np\n",
        "from scipy.stats import kstest, norm\n",
        "import matplotlib.pyplot as plt"
      ],
      "metadata": {
        "id": "qHW1lpKihREz"
      },
      "execution_count": 9,
      "outputs": []
    },
    {
      "cell_type": "code",
      "source": [
        "# Step 1: Load the dataset\n",
        "# Step 2: Extract temperature scores\n",
        "days = np.array([1, 2, 3, 4, 5, 6, 7, 8, 9, 10])\n",
        "temperatures = np.array([15, 17, 16, 14, 18, 20, 19, 15, 21, 22])\n",
        "print(\"Temperature Data (°C):\", temperatures)\n",
        "\n"
      ],
      "metadata": {
        "colab": {
          "base_uri": "https://localhost:8080/"
        },
        "id": "Lq3oFzNagxLb",
        "outputId": "d1759d4f-01ea-46d6-86fe-7b060b5a9cf9"
      },
      "execution_count": 14,
      "outputs": [
        {
          "output_type": "stream",
          "name": "stdout",
          "text": [
            "Temperature Data (°C): [15 17 16 14 18 20 19 15 21 22]\n"
          ]
        }
      ]
    },
    {
      "cell_type": "code",
      "source": [
        "# Step 3: Center and scale the data\n",
        "mean_val = np.mean(temperatures)\n",
        "std_dev = np.std(temperatures)\n",
        "scaled_data = (temperatures - mean_val) / std_dev\n",
        "print(f\"\\nMean temperature: {mean_val:.2f}°C\")\n",
        "print(f\"Standard deviation: {std_dev:.2f}°C\")\n"
      ],
      "metadata": {
        "colab": {
          "base_uri": "https://localhost:8080/"
        },
        "id": "-rBJlqB8g-QU",
        "outputId": "b868c1c5-8542-45af-99f1-2c5dfda6025b"
      },
      "execution_count": 18,
      "outputs": [
        {
          "output_type": "stream",
          "name": "stdout",
          "text": [
            "\n",
            "Mean temperature: 17.70°C\n",
            "Standard deviation: 2.61°C\n"
          ]
        }
      ]
    },
    {
      "cell_type": "code",
      "source": [
        "# Step 4: Perform the one-sample Kolmogorov-Smirnov test\n",
        "# Comparing against standard normal distribution (mean=0, std=1)\n",
        "ks_result = kstest(scaled_data, 'norm')\n"
      ],
      "metadata": {
        "id": "Mep4n1Nmi6vr"
      },
      "execution_count": 19,
      "outputs": []
    },
    {
      "cell_type": "code",
      "source": [
        "# Step 5: Output the results\n",
        "print(f\"Test decision (h): {int(ks_result.pvalue < 0.05)} \")\n",
        "print(f\"p-value: {ks_result.pvalue:.4f}\")\n",
        "print(f\"KS statistic: {ks_result.statistic:.4f}\")\n"
      ],
      "metadata": {
        "colab": {
          "base_uri": "https://localhost:8080/"
        },
        "id": "bYp9XfiCmA8K",
        "outputId": "35732c9d-e8e0-4811-8984-d28eb4dcfdd0"
      },
      "execution_count": 23,
      "outputs": [
        {
          "output_type": "stream",
          "name": "stdout",
          "text": [
            "Test decision (h): 0 \n",
            "p-value: 0.9550\n",
            "KS statistic: 0.1496\n"
          ]
        }
      ]
    },
    {
      "cell_type": "code",
      "source": [],
      "metadata": {
        "id": "_VyGf9bCmoFC"
      },
      "execution_count": null,
      "outputs": []
    }
  ]
}