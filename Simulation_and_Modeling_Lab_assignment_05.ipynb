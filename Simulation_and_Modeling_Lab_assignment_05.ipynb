{
  "nbformat": 4,
  "nbformat_minor": 0,
  "metadata": {
    "colab": {
      "provenance": [],
      "authorship_tag": "ABX9TyNHejUIi3MJ4xe0a1YxoaqX",
      "include_colab_link": true
    },
    "kernelspec": {
      "name": "python3",
      "display_name": "Python 3"
    },
    "language_info": {
      "name": "python"
    }
  },
  "cells": [
    {
      "cell_type": "markdown",
      "metadata": {
        "id": "view-in-github",
        "colab_type": "text"
      },
      "source": [
        "<a href=\"https://colab.research.google.com/github/Jannatu37/machine-learning-/blob/main/Simulation_and_Modeling_Lab_assignment_05.ipynb\" target=\"_parent\"><img src=\"https://colab.research.google.com/assets/colab-badge.svg\" alt=\"Open In Colab\"/></a>"
      ]
    },
    {
      "cell_type": "markdown",
      "source": [
        "Name: Jannatul Ferdoss Faria\n",
        "\n",
        "ID: 2215151037\n",
        "\n",
        "University: University Of Information Technology And Science\n",
        "\n",
        "Section: 7A2\n",
        "\n",
        "Department: CSE\n",
        "\n",
        "Course Title: Simulation and Modeling Lab\n",
        "\n",
        "Course Code: CSE 413\n"
      ],
      "metadata": {
        "id": "vHiftYMBdVUF"
      }
    },
    {
      "cell_type": "markdown",
      "source": [
        "Apply the One-Sample Kolmogorov-Smirnov (K-S) Test on a dataset of daily temperatures to\n",
        "determine if the sample data comes from a specified normal distribution."
      ],
      "metadata": {
        "id": "T9bF45kWda3s"
      }
    },
    {
      "cell_type": "markdown",
      "source": [
        "You will be using the following dataset of daily temperatures recorded in degrees Celsius over a 10-day period.\n",
        "Instructions\n",
        "\n",
        "Day\n",
        "\n",
        "1,2,3,4,5,6,7,8,9,10\n",
        "\n",
        "\n",
        "Temperature (°C)\n",
        "\n",
        "15, 17, 16, 14, 18, 20, 19, 15, 21, 22\n"
      ],
      "metadata": {
        "id": "ajxsUuPmehl0"
      }
    },
    {
      "cell_type": "markdown",
      "source": [
        "Instructions:\n",
        "1. Load the Dataset: Use the provided dataset in your colab\n",
        "2. Extract Temperature Scores: Extract the temperatures from the dataset for analysis.\n",
        "3. Center and Scale the Data: Define the mean and standard deviation for a normal\n",
        "distribution and center and scale the temperature data accordingly.\n",
        "4. Perform the K-S Test: Use MATLAB’s kstest function to perform a one-sample K-S\n",
        "test on the scaled data.\n",
        "5. Output the Results: Display the test decision (h), p-value, KS statistic\n",
        "6. Plot the Empirical CDF: Generate a plot comparing the empirical CDF of the scaled\n",
        "temperature data with the standard normal CDF.\n",
        "7. Write a Conclusion: Based on the results, write a short conclusion about whether the\n",
        "null hypothesis (that the temperatures come from a normal distribution) can be rejected."
      ],
      "metadata": {
        "id": "Znyu79EKgnH7"
      }
    },
    {
      "cell_type": "code",
      "source": [
        "# Applying One-Sample Kolmogorov-Smirnov Test (K-S Test) for Temperature Data\n",
        "import numpy as np\n",
        "from scipy.stats import kstest, norm\n",
        "import matplotlib.pyplot as plt"
      ],
      "metadata": {
        "id": "qHW1lpKihREz"
      },
      "execution_count": 9,
      "outputs": []
    },
    {
      "cell_type": "code",
      "source": [
        "# Step 1: Load the dataset\n",
        "days = np.array([1, 2, 3, 4, 5, 6, 7, 8, 9, 10])\n",
        "temperatures = np.array([15, 17, 16, 14, 18, 20, 19, 15, 21, 22])\n",
        "print(\"Temperature Data (°C):\", temperatures)\n",
        "\n"
      ],
      "metadata": {
        "colab": {
          "base_uri": "https://localhost:8080/"
        },
        "id": "Lq3oFzNagxLb",
        "outputId": "a3ef9665-b938-46fc-bf95-83ba85260cf9"
      },
      "execution_count": 10,
      "outputs": [
        {
          "output_type": "stream",
          "name": "stdout",
          "text": [
            "Temperature Data (°C): [15 17 16 14 18 20 19 15 21 22]\n"
          ]
        }
      ]
    },
    {
      "cell_type": "code",
      "source": [],
      "metadata": {
        "id": "-rBJlqB8g-QU"
      },
      "execution_count": null,
      "outputs": []
    }
  ]
}